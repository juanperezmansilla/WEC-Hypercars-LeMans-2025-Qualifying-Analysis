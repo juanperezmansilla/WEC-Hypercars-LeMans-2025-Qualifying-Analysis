{
 "cells": [
  {
   "cell_type": "markdown",
   "id": "37ca21b4",
   "metadata": {},
   "source": [
    "# Machine Learning WEC Hypercars - 24h Le Mans 2025"
   ]
  },
  {
   "cell_type": "code",
   "execution_count": 5,
   "id": "b60eb8fe",
   "metadata": {},
   "outputs": [],
   "source": [
    "import pandas as pd\n",
    "import numpy as np\n",
    "ALL_SESSIONS = pd.read_csv(\"C:/Users/juanp/Downloads/all_sessions.csv\", delimiter=\",\")"
   ]
  },
  {
   "cell_type": "code",
   "execution_count": 7,
   "id": "7bf59b88",
   "metadata": {},
   "outputs": [
    {
     "name": "stdout",
     "output_type": "stream",
     "text": [
      "<class 'pandas.core.frame.DataFrame'>\n",
      "RangeIndex: 120 entries, 0 to 119\n",
      "Data columns (total 19 columns):\n",
      " #   Column            Non-Null Count  Dtype  \n",
      "---  ------            --------------  -----  \n",
      " 0   SESSION           120 non-null    object \n",
      " 1   NUMBER            120 non-null    int64  \n",
      " 2   DRIVER_NUMBER     120 non-null    int64  \n",
      " 3   DRIVER_NAME       120 non-null    object \n",
      " 4   CLASS             120 non-null    object \n",
      " 5   TEAM              120 non-null    object \n",
      " 6   MANUFACTURER      120 non-null    object \n",
      " 7   LAP_NUMBER        120 non-null    int64  \n",
      " 8   LAP_TIME_SECONDS  120 non-null    float64\n",
      " 9   LAP_IMPROVEMENT   120 non-null    int64  \n",
      " 10  S1_SECONDS        120 non-null    float64\n",
      " 11  S1_IMPROVEMENT    120 non-null    int64  \n",
      " 12  S2_SECONDS        120 non-null    float64\n",
      " 13  S2_IMPROVEMENT    120 non-null    int64  \n",
      " 14  S3_SECONDS        120 non-null    float64\n",
      " 15  S3_IMPROVEMENT    120 non-null    int64  \n",
      " 16  KPH               120 non-null    float64\n",
      " 17  TOP_SPEED         120 non-null    float64\n",
      " 18  FLAG_AT_FL        120 non-null    object \n",
      "dtypes: float64(6), int64(7), object(6)\n",
      "memory usage: 17.9+ KB\n"
     ]
    }
   ],
   "source": [
    "ALL_SESSIONS.info()"
   ]
  },
  {
   "cell_type": "markdown",
   "id": "60dc0345",
   "metadata": {},
   "source": [
    "## Sector importance Analysis "
   ]
  },
  {
   "cell_type": "markdown",
   "id": "ed09521e",
   "metadata": {},
   "source": [
    "### Correlation Analysis"
   ]
  },
  {
   "cell_type": "code",
   "execution_count": 19,
   "id": "a0e1ff35",
   "metadata": {},
   "outputs": [
    {
     "name": "stdout",
     "output_type": "stream",
     "text": [
      "LAP_TIME_SECONDS    1.000000\n",
      "S3_SECONDS          0.922590\n",
      "S2_SECONDS          0.667772\n",
      "S1_SECONDS          0.614074\n",
      "Name: LAP_TIME_SECONDS, dtype: float64\n"
     ]
    }
   ],
   "source": [
    "import pandas as pd\n",
    "\n",
    "# Select relevant columns\n",
    "sector_df = ALL_SESSIONS[['LAP_TIME_SECONDS', 'S1_SECONDS', 'S2_SECONDS', 'S3_SECONDS']]\n",
    "\n",
    "# Compute correlation matrix\n",
    "corr = sector_df.corr()\n",
    "\n",
    "print(corr['LAP_TIME_SECONDS'].sort_values(ascending=False))"
   ]
  },
  {
   "cell_type": "markdown",
   "id": "9cff918d",
   "metadata": {},
   "source": [
    "### Feature Importance with Random Forest"
   ]
  },
  {
   "cell_type": "code",
   "execution_count": 24,
   "id": "a2874744",
   "metadata": {},
   "outputs": [
    {
     "name": "stdout",
     "output_type": "stream",
     "text": [
      "S1_SECONDS: 0.063\n",
      "S2_SECONDS: 0.075\n",
      "S3_SECONDS: 0.863\n"
     ]
    }
   ],
   "source": [
    "from sklearn.ensemble import RandomForestRegressor\n",
    "\n",
    "X = ALL_SESSIONS[['S1_SECONDS', 'S2_SECONDS', 'S3_SECONDS']]\n",
    "y = ALL_SESSIONS['LAP_TIME_SECONDS']\n",
    "\n",
    "model = RandomForestRegressor(n_estimators=100, random_state=42)\n",
    "model.fit(X, y)\n",
    "\n",
    "importances = model.feature_importances_\n",
    "for name, importance in zip(X.columns, importances):\n",
    "    print(f\"{name}: {importance:.3f}\")"
   ]
  },
  {
   "cell_type": "markdown",
   "id": "8ba3923f",
   "metadata": {},
   "source": [
    "### SHAP Values "
   ]
  },
  {
   "cell_type": "code",
   "execution_count": null,
   "id": "9aa56d70",
   "metadata": {},
   "outputs": [
    {
     "data": {
      "image/png": "[encoded data removed]",
      "text/plain": [
       "<Figure size 800x270 with 1 Axes>"
      ]
     },
     "metadata": {},
     "output_type": "display_data"
    }
   ],
   "source": [
    "import shap\n",
    "\n",
    "\n",
    "model = RandomForestRegressor(n_estimators=100, random_state=42)\n",
    "model.fit(X, y)\n",
    "\n",
    "explainer = shap.Explainer(model, X)\n",
    "shap_values = explainer(X)\n",
    "\n",
    "shap.summary_plot(shap_values, X, plot_type=\"bar\")"
   ]
  },
  {
   "cell_type": "markdown",
   "id": "f63c821e",
   "metadata": {},
   "source": [
    "Based on the analysis, both the correlation and the SHAP feature importance results clearly indicate that Sector 3 (S3_SECONDS) is the most influential factor in determining the total lap time. The correlation between S3 and the total lap time is very high (0.92), and its SHAP importance is also dominant (0.86). Improving performance in Sector 3 will have the greatest impact on reducing overall lap times, while S1 and S2 play a secondary role. This suggests that teams and drivers should focus their efforts on optimizing Sector 3 to achieve the best possible results."
   ]
  },
  {
   "cell_type": "markdown",
   "id": "efddeb64",
   "metadata": {},
   "source": [
    "## Lap Improvement Prediction"
   ]
  },
  {
   "cell_type": "code",
   "execution_count": null,
   "id": "164fa1a5",
   "metadata": {},
   "outputs": [
    {
     "name": "stdout",
     "output_type": "stream",
     "text": [
      "Classification Report:\n",
      "               precision    recall  f1-score   support\n",
      "\n",
      "           0       1.00      0.93      0.97        15\n",
      "           1       0.90      1.00      0.95         9\n",
      "\n",
      "    accuracy                           0.96        24\n",
      "   macro avg       0.95      0.97      0.96        24\n",
      "weighted avg       0.96      0.96      0.96        24\n",
      "\n",
      "Confusion Matrix:\n",
      " [[14  1]\n",
      " [ 0  9]]\n",
      "5-fold Cross-validated Accuracy: 0.9167\n"
     ]
    }
   ],
   "source": [
    "import pandas as pd\n",
    "from sklearn.model_selection import train_test_split, cross_val_score\n",
    "from sklearn.ensemble import RandomForestClassifier\n",
    "from sklearn.metrics import classification_report, confusion_matrix\n",
    "from sklearn.preprocessing import StandardScaler\n",
    "\n",
    "df = ALL_SESSIONS.copy()\n",
    "\n",
    "df['IMPROVED'] = (df['LAP_IMPROVEMENT'] > 0).astype(int)\n",
    "\n",
    "features = [\n",
    "    'LAP_NUMBER', 'S1_IMPROVEMENT', 'S2_IMPROVEMENT', 'S3_IMPROVEMENT',\n",
    "    'TOP_SPEED', 'TEAM', 'MANUFACTURER', 'DRIVER_NAME', 'SESSION', 'CLASS'\n",
    "]\n",
    "df = df[features + ['IMPROVED']].dropna()\n",
    "\n",
    "for col in ['TEAM', 'MANUFACTURER', 'DRIVER_NAME']:\n",
    "    counts = df[col].value_counts()\n",
    "    rare = counts[counts < 3].index\n",
    "    df[col] = df[col].replace(rare, 'Other')\n",
    "\n",
    "df_encoded = pd.get_dummies(df, columns=['TEAM', 'MANUFACTURER', 'DRIVER_NAME', 'SESSION', 'CLASS'])\n",
    "\n",
    "X = df_encoded.drop('IMPROVED', axis=1)\n",
    "y = df_encoded['IMPROVED']\n",
    "\n",
    "\n",
    "scaler = StandardScaler()\n",
    "X[X.columns] = scaler.fit_transform(X)\n",
    "\n",
    "\n",
    "X_train, X_test, y_train, y_test = train_test_split(X, y, test_size=0.2, random_state=42, stratify=y)\n",
    "\n",
    "\n",
    "clf = RandomForestClassifier(n_estimators=100, random_state=42)\n",
    "clf.fit(X_train, y_train)\n",
    "\n",
    "\n",
    "y_pred = clf.predict(X_test)\n",
    "print(\"Classification Report:\\n\", classification_report(y_test, y_pred))\n",
    "print(\"Confusion Matrix:\\n\", confusion_matrix(y_test, y_pred))\n",
    "\n",
    "\n",
    "cv_scores = cross_val_score(clf, X, y, cv=3, scoring='accuracy')\n",
    "print(f\"5-fold Cross-validated Accuracy: {cv_scores.mean():.4f}\")"
   ]
  },
  {
   "cell_type": "code",
   "execution_count": null,
   "id": "3af8c6ac",
   "metadata": {},
   "outputs": [
    {
     "name": "stdout",
     "output_type": "stream",
     "text": [
      "Classification Report:\n",
      "               precision    recall  f1-score   support\n",
      "\n",
      "           0       0.93      0.93      0.93        15\n",
      "           1       0.89      0.89      0.89         9\n",
      "\n",
      "    accuracy                           0.92        24\n",
      "   macro avg       0.91      0.91      0.91        24\n",
      "weighted avg       0.92      0.92      0.92        24\n",
      "\n",
      "Confusion Matrix:\n",
      " [[14  1]\n",
      " [ 1  8]]\n",
      "5-fold Cross-validated Accuracy: 0.8583\n"
     ]
    }
   ],
   "source": [
    "from sklearn.linear_model import LogisticRegression\n",
    "from sklearn.metrics import classification_report, confusion_matrix\n",
    "from sklearn.model_selection import cross_val_score, train_test_split\n",
    "from sklearn.preprocessing import StandardScaler\n",
    "\n",
    "X_train, X_test, y_train, y_test = train_test_split(X, y, test_size=0.2, random_state=42, stratify=y)\n",
    "\n",
    "logreg = LogisticRegression(max_iter=1000, random_state=42)\n",
    "logreg.fit(X_train, y_train)\n",
    "\n",
    "y_pred = logreg.predict(X_test)\n",
    "print(\"Classification Report:\\n\", classification_report(y_test, y_pred))\n",
    "print(\"Confusion Matrix:\\n\", confusion_matrix(y_test, y_pred))\n",
    "\n",
    "cv_scores = cross_val_score(logreg, X, y, cv=3, scoring='accuracy')\n",
    "print(f\"5-fold Cross-validated Accuracy: {cv_scores.mean():.4f}\")"
   ]
  },
  {
   "cell_type": "markdown",
   "id": "5515bdca",
   "metadata": {},
   "source": [
    "## Cluster-Based Analysis of Driving Styles by Sector"
   ]
  },
  {
   "cell_type": "code",
   "execution_count": null,
   "id": "1b65d949",
   "metadata": {},
   "outputs": [
    {
     "name": "stdout",
     "output_type": "stream",
     "text": [
      "         S1_IMPROVEMENT  S2_IMPROVEMENT  S3_IMPROVEMENT\n",
      "cluster                                                \n",
      "0              0.016393        0.295082        0.016393\n",
      "1              1.214286        0.035714        1.428571\n",
      "2              1.709677        2.064516        1.774194\n"
     ]
    },
    {
     "data": {
      "text/html": [
       "<style type=\"text/css\">\n",
       "#T_daa4a caption {\n",
       "  color: #2d3a4a;\n",
       "  font-size: 18px;\n",
       "  font-weight: bold;\n",
       "}\n",
       "#T_daa4a_row0_col0, #T_daa4a_row0_col2, #T_daa4a_row1_col1 {\n",
       "  background-color: #fff5f0;\n",
       "  color: #000000;\n",
       "}\n",
       "#T_daa4a_row0_col1 {\n",
       "  background-color: #fee0d2;\n",
       "  color: #000000;\n",
       "}\n",
       "#T_daa4a_row1_col0 {\n",
       "  background-color: #d72322;\n",
       "  color: #f1f1f1;\n",
       "}\n",
       "#T_daa4a_row1_col2 {\n",
       "  background-color: #bb141a;\n",
       "  color: #f1f1f1;\n",
       "}\n",
       "#T_daa4a_row2_col0, #T_daa4a_row2_col1, #T_daa4a_row2_col2 {\n",
       "  background-color: #67000d;\n",
       "  color: #f1f1f1;\n",
       "}\n",
       "</style>\n",
       "<table id=\"T_daa4a\">\n",
       "  <caption>Average Improvement by Cluster</caption>\n",
       "  <thead>\n",
       "    <tr>\n",
       "      <th class=\"blank level0\" >&nbsp;</th>\n",
       "      <th id=\"T_daa4a_level0_col0\" class=\"col_heading level0 col0\" >S1_IMPROVEMENT</th>\n",
       "      <th id=\"T_daa4a_level0_col1\" class=\"col_heading level0 col1\" >S2_IMPROVEMENT</th>\n",
       "      <th id=\"T_daa4a_level0_col2\" class=\"col_heading level0 col2\" >S3_IMPROVEMENT</th>\n",
       "    </tr>\n",
       "    <tr>\n",
       "      <th class=\"index_name level0\" >cluster</th>\n",
       "      <th class=\"blank col0\" >&nbsp;</th>\n",
       "      <th class=\"blank col1\" >&nbsp;</th>\n",
       "      <th class=\"blank col2\" >&nbsp;</th>\n",
       "    </tr>\n",
       "  </thead>\n",
       "  <tbody>\n",
       "    <tr>\n",
       "      <th id=\"T_daa4a_level0_row0\" class=\"row_heading level0 row0\" >0</th>\n",
       "      <td id=\"T_daa4a_row0_col0\" class=\"data row0 col0\" >0.02</td>\n",
       "      <td id=\"T_daa4a_row0_col1\" class=\"data row0 col1\" >0.30</td>\n",
       "      <td id=\"T_daa4a_row0_col2\" class=\"data row0 col2\" >0.02</td>\n",
       "    </tr>\n",
       "    <tr>\n",
       "      <th id=\"T_daa4a_level0_row1\" class=\"row_heading level0 row1\" >1</th>\n",
       "      <td id=\"T_daa4a_row1_col0\" class=\"data row1 col0\" >1.21</td>\n",
       "      <td id=\"T_daa4a_row1_col1\" class=\"data row1 col1\" >0.04</td>\n",
       "      <td id=\"T_daa4a_row1_col2\" class=\"data row1 col2\" >1.43</td>\n",
       "    </tr>\n",
       "    <tr>\n",
       "      <th id=\"T_daa4a_level0_row2\" class=\"row_heading level0 row2\" >2</th>\n",
       "      <td id=\"T_daa4a_row2_col0\" class=\"data row2 col0\" >1.71</td>\n",
       "      <td id=\"T_daa4a_row2_col1\" class=\"data row2 col1\" >2.06</td>\n",
       "      <td id=\"T_daa4a_row2_col2\" class=\"data row2 col2\" >1.77</td>\n",
       "    </tr>\n",
       "  </tbody>\n",
       "</table>\n"
      ],
      "text/plain": [
       "<pandas.io.formats.style.Styler at 0x24731d3e910>"
      ]
     },
     "metadata": {},
     "output_type": "display_data"
    },
    {
     "data": {
      "image/png": "[encoded data removed]",
      "text/plain": [
       "<Figure size 800x600 with 1 Axes>"
      ]
     },
     "metadata": {},
     "output_type": "display_data"
    }
   ],
   "source": [
    "import pandas as pd\n",
    "from sklearn.preprocessing import StandardScaler\n",
    "from sklearn.cluster import KMeans\n",
    "from sklearn.decomposition import PCA\n",
    "import matplotlib.pyplot as plt\n",
    "\n",
    "\n",
    "df = ALL_SESSIONS.copy()\n",
    "X = df[[\"S1_IMPROVEMENT\", \"S2_IMPROVEMENT\", \"S3_IMPROVEMENT\"]].fillna(0)\n",
    "\n",
    "scaler = StandardScaler()\n",
    "X_scaled = scaler.fit_transform(X)\n",
    "\n",
    "kmeans = KMeans(n_clusters=3, random_state=42)\n",
    "clusters = kmeans.fit_predict(X_scaled)\n",
    "df[\"cluster\"] = clusters\n",
    "\n",
    "cluster_means = df.groupby(\"cluster\")[[\"S1_IMPROVEMENT\", \"S2_IMPROVEMENT\", \"S3_IMPROVEMENT\"]].mean()\n",
    "styled_table = cluster_means.style.set_caption(\"Average Improvement by Cluster\") \\\n",
    "    .background_gradient(cmap=\"Reds\") \\\n",
    "    .format(\"{:.2f}\") \\\n",
    "    .set_table_styles([\n",
    "        {'selector': 'caption', 'props': [('color', '#2d3a4a'), ('font-size', '18px'), ('font-weight', 'bold')]}\n",
    "    ])\n",
    "print(cluster_means) \n",
    "try:\n",
    "    from IPython.display import display\n",
    "    display(styled_table)\n",
    "except ImportError:\n",
    "    pass\n",
    "\n",
    "pca = PCA(n_components=2)\n",
    "X_pca = pca.fit_transform(X_scaled)\n",
    "plt.figure(figsize=(8,6))\n",
    "for c in range(3):\n",
    "    plt.scatter(X_pca[clusters==c,0], X_pca[clusters==c,1], label=f\"Style {c}\", alpha=0.7, edgecolors='k')\n",
    "plt.xlabel(\"Principal Component 1\")\n",
    "plt.ylabel(\"Principal Component 2\")\n",
    "plt.title(\"Lap Style Clustering\")\n",
    "plt.legend()\n",
    "plt.tight_layout()\n",
    "plt.show()"
   ]
  },
  {
   "cell_type": "code",
   "execution_count": 124,
   "id": "c4be2227",
   "metadata": {},
   "outputs": [
    {
     "name": "stdout",
     "output_type": "stream",
     "text": [
      "           DRIVER_NAME  cluster                                      style\n",
      "95           Neel JANI        0     Conservative in S1 & S3, Attacks in S2\n",
      "96            Yifei YE        0     Conservative in S1 & S3, Attacks in S2\n",
      "99    Felipe DRUGOVICH        0     Conservative in S1 & S3, Attacks in S2\n",
      "102          Neel JANI        1  Aggressive in S1 & S3, Conservative in S2\n",
      "103     Dries VANTHOOR        0     Conservative in S1 & S3, Attacks in S2\n",
      "105    Harry TINCKNELL        1  Aggressive in S1 & S3, Conservative in S2\n",
      "108       Ricky TAYLOR        0     Conservative in S1 & S3, Attacks in S2\n",
      "109  Stoffel VANDOORNE        0     Conservative in S1 & S3, Attacks in S2\n",
      "111    Harry TINCKNELL        0     Conservative in S1 & S3, Attacks in S2\n",
      "114   Jean-Eric VERGNE        2                  Aggressive in all sectors\n"
     ]
    }
   ],
   "source": [
    "style_dict = {\n",
    "    0: \"Conservative in S1 & S3, Attacks in S2\",\n",
    "    1: \"Aggressive in S1 & S3, Conservative in S2\",\n",
    "    2: \"Aggressive in all sectors\"\n",
    "}\n",
    "df[\"style\"] = df[\"cluster\"].map(style_dict)\n",
    "pilot_table = df[[\"DRIVER_NAME\", \"cluster\", \"style\"]].drop_duplicates().tail(10)\n",
    "print(pilot_table)"
   ]
  },
  {
   "cell_type": "markdown",
   "id": "529ca39e",
   "metadata": {},
   "source": [
    "The analysis of the clusters reveals distinct driving styles among the laps. Cluster 0 is characterized by drivers who are generally conservative in sectors 1 and 3, with average improvements of only 0.02 seconds in both, but tend to attack more in sector 2, achieving an average improvement of 0.30 seconds. Cluster 1 groups drivers who are aggressive in sectors 1 and 3, with average improvements of 1.21 and 1.43 seconds respectively, while being conservative in sector 2 (0.04 seconds). Finally, cluster 2 represents drivers who are aggressive throughout the entire lap, showing high average improvements in all sectors: 1.71 seconds in S1, 2.06 seconds in S2, and 1.77 seconds in S3. These patterns allow us to identify and compare the typical sector strategies of each group."
   ]
  }
 ],
 "metadata": {
  "kernelspec": {
   "display_name": "Python 3",
   "language": "python",
   "name": "python3"
  },
  "language_info": {
   "codemirror_mode": {
    "name": "ipython",
    "version": 3
   },
   "file_extension": ".py",
   "mimetype": "text/x-python",
   "name": "python",
   "nbconvert_exporter": "python",
   "pygments_lexer": "ipython3",
   "version": "3.11.0"
  }
 },
 "nbformat": 4,
 "nbformat_minor": 5
}
